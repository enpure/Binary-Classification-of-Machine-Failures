{
 "cells": [
  {
   "cell_type": "code",
   "outputs": [],
   "source": [
    "%reset -f"
   ],
   "metadata": {
    "collapsed": false,
    "ExecuteTime": {
     "end_time": "2024-03-13T04:36:13.562032200Z",
     "start_time": "2024-03-13T04:36:13.395360Z"
    }
   },
   "id": "2e4e96b9a87cb0e6",
   "execution_count": 60
  },
  {
   "cell_type": "markdown",
   "source": [
    "### Libraries"
   ],
   "metadata": {
    "collapsed": false
   },
   "id": "4bb5e760e3d76689"
  },
  {
   "cell_type": "code",
   "execution_count": 134,
   "id": "initial_id",
   "metadata": {
    "collapsed": true,
    "ExecuteTime": {
     "end_time": "2024-03-13T18:48:38.392154200Z",
     "start_time": "2024-03-13T18:48:38.381608700Z"
    }
   },
   "outputs": [],
   "source": [
    "import numpy as np\n",
    "import matplotlib.pyplot as plt\n",
    "import seaborn as sns\n",
    "import pandas as pd\n",
    "import sklearn\n",
    "\n",
    "from tqdm import tqdm\n",
    "\n",
    "from sklearn.compose import ColumnTransformer, make_column_transformer\n",
    "\n",
    "from sklearn.experimental import enable_iterative_imputer\n",
    "from sklearn.impute import SimpleImputer, IterativeImputer, KNNImputer\n",
    "from imblearn.over_sampling import SMOTE\n",
    "from imblearn.pipeline import Pipeline\n",
    "from xgboost import XGBClassifier\n",
    "\n",
    "from sklearn.preprocessing import (MinMaxScaler,\n",
    "                                   StandardScaler,\n",
    "                                   RobustScaler,\n",
    "                                   Normalizer,\n",
    "                                   PolynomialFeatures,\n",
    "                                   LabelEncoder,\n",
    "                                   OneHotEncoder,\n",
    "                                   OrdinalEncoder)\n",
    "\n",
    "from sklearn.model_selection import (cross_val_score,\n",
    "                                     KFold,\n",
    "                                     StratifiedShuffleSplit,\n",
    "                                     GridSearchCV,\n",
    "                                     StratifiedKFold,\n",
    "                                     cross_validate,\n",
    "                                     train_test_split)\n",
    "\n",
    "from sklearn.neighbors import KNeighborsClassifier\n",
    "from sklearn.ensemble import RandomForestClassifier\n",
    "from sklearn.linear_model import LogisticRegression\n",
    "from sklearn.svm import SVC\n",
    "\n",
    "from sklearn.metrics import (precision_score,\n",
    "                             accuracy_score,\n",
    "                             confusion_matrix,\n",
    "                             ConfusionMatrixDisplay,\n",
    "                             PrecisionRecallDisplay)\n",
    "\n",
    "from IPython.display import display\n",
    "import warnings\n",
    "\n",
    "warnings.filterwarnings(\"ignore\")"
   ]
  },
  {
   "cell_type": "code",
   "outputs": [],
   "source": [
    "train = pd.read_csv('train.csv', index_col=0)\n",
    "test = pd.read_csv('test.csv', index_col=0)\n",
    "submit = pd.read_csv('sample_submission.csv', index_col=0)"
   ],
   "metadata": {
    "collapsed": false,
    "ExecuteTime": {
     "end_time": "2024-03-13T04:36:22.877267500Z",
     "start_time": "2024-03-13T04:36:22.730824500Z"
    }
   },
   "id": "c15b8ff2f7ed4957",
   "execution_count": 62
  },
  {
   "cell_type": "markdown",
   "source": [
    "### Data preprocessing"
   ],
   "metadata": {
    "collapsed": false
   },
   "id": "1cd897c7588a7c4a"
  },
  {
   "cell_type": "code",
   "outputs": [
    {
     "name": "stdout",
     "output_type": "stream",
     "text": [
      "Отсутствующие столбцы в тестовом наборе данных: {'Machine failure'}\n"
     ]
    }
   ],
   "source": [
    "# Сравнение столбцов\n",
    "train_columns = set(train.columns)\n",
    "test_columns = set(test.columns)\n",
    "\n",
    "# Проверка наличия всех столбцов тренировочного набора в тестовом\n",
    "if train_columns.issubset(test_columns):\n",
    "    print(\"Все столбцы из тренировочного набора присутствуют в тестовом.\")\n",
    "else:\n",
    "    missing_columns = train_columns - test_columns\n",
    "    print(\"Отсутствующие столбцы в тестовом наборе данных:\", missing_columns)"
   ],
   "metadata": {
    "collapsed": false,
    "ExecuteTime": {
     "end_time": "2024-03-13T04:36:25.718987Z",
     "start_time": "2024-03-13T04:36:25.713036100Z"
    }
   },
   "id": "3bfe9caeefd35e5b",
   "execution_count": 63
  },
  {
   "cell_type": "code",
   "outputs": [
    {
     "data": {
      "text/plain": "['Product ID', 'Type']"
     },
     "execution_count": 64,
     "metadata": {},
     "output_type": "execute_result"
    }
   ],
   "source": [
    "cat_features = train.select_dtypes(include=['object', 'category']).columns.tolist()\n",
    "cat_features"
   ],
   "metadata": {
    "collapsed": false,
    "ExecuteTime": {
     "end_time": "2024-03-13T04:36:26.352526400Z",
     "start_time": "2024-03-13T04:36:26.345016400Z"
    }
   },
   "id": "7b0859c347b4f40e",
   "execution_count": 64
  },
  {
   "cell_type": "code",
   "outputs": [
    {
     "name": "stdout",
     "output_type": "stream",
     "text": [
      "В признаке 'Product ID' нет расхождений в категориях между тренировочным и тестовым датасетами.\n",
      "В признаке 'Type' нет расхождений в категориях между тренировочным и тестовым датасетами.\n"
     ]
    }
   ],
   "source": [
    "for feature in cat_features:\n",
    "    train_unique = set(train[feature].unique())\n",
    "    test_unique = set(train[feature].unique())\n",
    "\n",
    "    # Находим значения, которые есть в тестовом, но нет в тренировочном датасете\n",
    "    diff = test_unique - train_unique\n",
    "    if diff:\n",
    "        print(\n",
    "            f\"В признаке '{feature}' следующие категории есть в тестовом датасете, но отсутствуют в тренировочном: {diff}\")\n",
    "    else:\n",
    "        print(f\"В признаке '{feature}' нет расхождений в категориях между тренировочным и тестовым датасетами.\")"
   ],
   "metadata": {
    "collapsed": false,
    "ExecuteTime": {
     "end_time": "2024-03-13T04:36:27.386098700Z",
     "start_time": "2024-03-13T04:36:27.364995300Z"
    }
   },
   "id": "154e8d91efba863e",
   "execution_count": 65
  },
  {
   "cell_type": "code",
   "outputs": [],
   "source": [
    "train.drop_duplicates(inplace=True)\n",
    "# print(f\"Удалено дубликатов: {train.shape[0] - train.drop_duplicates().shape[0]}\")"
   ],
   "metadata": {
    "collapsed": false,
    "ExecuteTime": {
     "end_time": "2024-03-13T05:15:48.127530500Z",
     "start_time": "2024-03-13T05:15:48.090078900Z"
    }
   },
   "id": "11d534c8b8db8c59",
   "execution_count": 78
  },
  {
   "cell_type": "code",
   "outputs": [],
   "source": [
    "RS = 42"
   ],
   "metadata": {
    "collapsed": false,
    "ExecuteTime": {
     "end_time": "2024-03-13T04:36:30.658386200Z",
     "start_time": "2024-03-13T04:36:30.649347600Z"
    }
   },
   "id": "5197e6154ecb8e18",
   "execution_count": 66
  },
  {
   "cell_type": "code",
   "outputs": [],
   "source": [
    "'''\n",
    "class CustomTransformer(sklearn.base.BaseEstimator, sklearn.base.TransformerMixin):\n",
    "    def fit(self, df_source, y=None):\n",
    "        return self\n",
    "\n",
    "    def transform(self, df_source, y=None):\n",
    "        df = df_source.copy()\n",
    "        df['number'] = df['Product ID'].apply(lambda x: int(x[1:]))\n",
    "        df.drop('Product ID', axis=1, inplace=True)\n",
    "        return df\n",
    "'''"
   ],
   "metadata": {
    "collapsed": false
   },
   "id": "33be50bb3d3677d8"
  },
  {
   "cell_type": "markdown",
   "source": [
    "### Feature engineering"
   ],
   "metadata": {
    "collapsed": false
   },
   "id": "fc1523d6a72ec3b4"
  },
  {
   "cell_type": "code",
   "outputs": [],
   "source": [
    "x = train.drop('Machine failure', axis=1)\n",
    "x['random'] = np.random.rand(x.shape[0], 1)\n",
    "\n",
    "y = train['Machine failure']\n",
    "\n",
    "cat_cols = ['Type']\n",
    "num_cols = x.dtypes[x.dtypes != 'object'].index.to_list()"
   ],
   "metadata": {
    "collapsed": false,
    "ExecuteTime": {
     "end_time": "2024-03-13T05:07:11.740394600Z",
     "start_time": "2024-03-13T05:07:11.721542200Z"
    }
   },
   "id": "10c23a00584baf01",
   "execution_count": 75
  },
  {
   "cell_type": "code",
   "outputs": [],
   "source": [
    "CT = ColumnTransformer([\n",
    "    (\"scaler\", OrdinalEncoder(), cat_cols),\n",
    "], remainder='passthrough')"
   ],
   "metadata": {
    "collapsed": false,
    "ExecuteTime": {
     "end_time": "2024-03-13T11:10:09.312725300Z",
     "start_time": "2024-03-13T11:10:09.308216Z"
    }
   },
   "id": "50f825de613f5a7a",
   "execution_count": 121
  },
  {
   "cell_type": "markdown",
   "source": [
    "#### XGB feature importance"
   ],
   "metadata": {
    "collapsed": false
   },
   "id": "8b4929a2d2323334"
  },
  {
   "cell_type": "code",
   "outputs": [
    {
     "data": {
      "text/plain": "                         importance\nHDF                        0.442613\nOSF                        0.274896\nPWF                        0.121720\nTWF                        0.119177\nRotational speed [rpm]     0.008296\nTorque [Nm]                0.007086\nTool wear [min]            0.005253\nAir temperature [K]        0.005091\nProcess temperature [K]    0.004219\nProduct ID                 0.004132\nType                       0.003725\nrandom                     0.003257\nRNF                        0.000534",
      "text/html": "<div>\n<style scoped>\n    .dataframe tbody tr th:only-of-type {\n        vertical-align: middle;\n    }\n\n    .dataframe tbody tr th {\n        vertical-align: top;\n    }\n\n    .dataframe thead th {\n        text-align: right;\n    }\n</style>\n<table border=\"1\" class=\"dataframe\">\n  <thead>\n    <tr style=\"text-align: right;\">\n      <th></th>\n      <th>importance</th>\n    </tr>\n  </thead>\n  <tbody>\n    <tr>\n      <th>HDF</th>\n      <td>0.442613</td>\n    </tr>\n    <tr>\n      <th>OSF</th>\n      <td>0.274896</td>\n    </tr>\n    <tr>\n      <th>PWF</th>\n      <td>0.121720</td>\n    </tr>\n    <tr>\n      <th>TWF</th>\n      <td>0.119177</td>\n    </tr>\n    <tr>\n      <th>Rotational speed [rpm]</th>\n      <td>0.008296</td>\n    </tr>\n    <tr>\n      <th>Torque [Nm]</th>\n      <td>0.007086</td>\n    </tr>\n    <tr>\n      <th>Tool wear [min]</th>\n      <td>0.005253</td>\n    </tr>\n    <tr>\n      <th>Air temperature [K]</th>\n      <td>0.005091</td>\n    </tr>\n    <tr>\n      <th>Process temperature [K]</th>\n      <td>0.004219</td>\n    </tr>\n    <tr>\n      <th>Product ID</th>\n      <td>0.004132</td>\n    </tr>\n    <tr>\n      <th>Type</th>\n      <td>0.003725</td>\n    </tr>\n    <tr>\n      <th>random</th>\n      <td>0.003257</td>\n    </tr>\n    <tr>\n      <th>RNF</th>\n      <td>0.000534</td>\n    </tr>\n  </tbody>\n</table>\n</div>"
     },
     "execution_count": 89,
     "metadata": {},
     "output_type": "execute_result"
    }
   ],
   "source": [
    "pipe = Pipeline([('preprocessing', CT),\n",
    "                 ('scaler', StandardScaler()),\n",
    "                 ('classifier', XGBClassifier(random_state=RS)),\n",
    "                 ])\n",
    "\n",
    "pipe.fit(x, y)\n",
    "\n",
    "#feature_importances_ - это массив, где каждый элемент соответствует важности признака\n",
    "feature_importances = pipe.__dict__['steps'][2][1].feature_importances_\n",
    "feature_importances = pd.DataFrame(data=feature_importances, index=x.columns)\n",
    "feature_importances.columns = ['importance']\n",
    "\n",
    "feature_importances.sort_values('importance', ascending=False)"
   ],
   "metadata": {
    "collapsed": false,
    "ExecuteTime": {
     "end_time": "2024-03-13T06:47:37.862748600Z",
     "start_time": "2024-03-13T06:47:37.607478800Z"
    }
   },
   "id": "f7e5db1cf899852d",
   "execution_count": 89
  },
  {
   "cell_type": "markdown",
   "source": [
    "#### RFC feature importance"
   ],
   "metadata": {
    "collapsed": false
   },
   "id": "1d9576bb616c2ac"
  },
  {
   "cell_type": "code",
   "outputs": [
    {
     "data": {
      "text/plain": "                         importance\nHDF                        0.271203\nOSF                        0.206016\nPWF                        0.103510\nTWF                        0.087880\nTorque [Nm]                0.076197\nRotational speed [rpm]     0.058814\nrandom                     0.048383\nType                       0.042595\nTool wear [min]            0.038818\nAir temperature [K]        0.034268\nProcess temperature [K]    0.028372\nProduct ID                 0.003746\nRNF                        0.000197",
      "text/html": "<div>\n<style scoped>\n    .dataframe tbody tr th:only-of-type {\n        vertical-align: middle;\n    }\n\n    .dataframe tbody tr th {\n        vertical-align: top;\n    }\n\n    .dataframe thead th {\n        text-align: right;\n    }\n</style>\n<table border=\"1\" class=\"dataframe\">\n  <thead>\n    <tr style=\"text-align: right;\">\n      <th></th>\n      <th>importance</th>\n    </tr>\n  </thead>\n  <tbody>\n    <tr>\n      <th>HDF</th>\n      <td>0.271203</td>\n    </tr>\n    <tr>\n      <th>OSF</th>\n      <td>0.206016</td>\n    </tr>\n    <tr>\n      <th>PWF</th>\n      <td>0.103510</td>\n    </tr>\n    <tr>\n      <th>TWF</th>\n      <td>0.087880</td>\n    </tr>\n    <tr>\n      <th>Torque [Nm]</th>\n      <td>0.076197</td>\n    </tr>\n    <tr>\n      <th>Rotational speed [rpm]</th>\n      <td>0.058814</td>\n    </tr>\n    <tr>\n      <th>random</th>\n      <td>0.048383</td>\n    </tr>\n    <tr>\n      <th>Type</th>\n      <td>0.042595</td>\n    </tr>\n    <tr>\n      <th>Tool wear [min]</th>\n      <td>0.038818</td>\n    </tr>\n    <tr>\n      <th>Air temperature [K]</th>\n      <td>0.034268</td>\n    </tr>\n    <tr>\n      <th>Process temperature [K]</th>\n      <td>0.028372</td>\n    </tr>\n    <tr>\n      <th>Product ID</th>\n      <td>0.003746</td>\n    </tr>\n    <tr>\n      <th>RNF</th>\n      <td>0.000197</td>\n    </tr>\n  </tbody>\n</table>\n</div>"
     },
     "execution_count": 88,
     "metadata": {},
     "output_type": "execute_result"
    }
   ],
   "source": [
    "pipe = Pipeline([('preprocessing', CT),\n",
    "                 ('scaler', StandardScaler()),\n",
    "                 ('classifier', RandomForestClassifier(random_state=RS)),\n",
    "                 ])\n",
    "\n",
    "pipe.fit(x, y)\n",
    "\n",
    "#feature_importances_ - это массив, где каждый элемент соответствует важности признака\n",
    "feature_importances = pipe.__dict__['steps'][2][1].feature_importances_\n",
    "feature_importances = pd.DataFrame(data=feature_importances, index=x.columns)\n",
    "feature_importances.columns = ['importance']\n",
    "\n",
    "feature_importances.sort_values('importance', ascending=False)"
   ],
   "metadata": {
    "collapsed": false,
    "ExecuteTime": {
     "end_time": "2024-03-13T06:31:42.318877Z",
     "start_time": "2024-03-13T06:31:26.574050700Z"
    }
   },
   "id": "19d80a9f31c79445",
   "execution_count": 88
  },
  {
   "cell_type": "code",
   "outputs": [],
   "source": [
    "del x['random']"
   ],
   "metadata": {
    "collapsed": false,
    "ExecuteTime": {
     "end_time": "2024-03-13T10:52:19.183848700Z",
     "start_time": "2024-03-13T10:52:19.169675400Z"
    }
   },
   "id": "6c4e0c60068a52b8",
   "execution_count": 113
  },
  {
   "cell_type": "markdown",
   "source": [
    "#### Failure analysis"
   ],
   "metadata": {
    "collapsed": false
   },
   "id": "f58557b8b601b89e"
  },
  {
   "cell_type": "code",
   "outputs": [],
   "source": [
    "temp_df = train.iloc[:, -6:][train['Machine failure'] == 1].sum(axis=1)\n",
    "\n",
    "# была поломка без причин / Machine Failure = 1; TWF, HDF, PWF, OSF, RNF = 0\n",
    "failure_ixs = temp_df[temp_df == 1].index\n",
    "\n",
    "# была поломка с причинами / Machine Failure = 1; TWF, HDF, PWF, OSF, RNF > 0\n",
    "not_failure_ixs = temp_df[temp_df != 1].index"
   ],
   "metadata": {
    "collapsed": false,
    "ExecuteTime": {
     "end_time": "2024-03-13T09:52:54.310621200Z",
     "start_time": "2024-03-13T09:52:54.284512200Z"
    }
   },
   "id": "1563dd565dfc91aa",
   "execution_count": 99
  },
  {
   "cell_type": "code",
   "outputs": [
    {
     "data": {
      "text/plain": "       Air temperature [K]  Process temperature [K]  Rotational speed [rpm]  \\\ncount           503.000000               503.000000              503.000000   \nmean            300.358250               310.109344             1486.357853   \nstd               2.029682                 1.387800              268.843078   \nmin             295.600000               306.000000             1183.000000   \n25%             298.800000               309.100000             1356.500000   \n50%             300.500000               310.300000             1400.000000   \n75%             302.100000               311.000000             1510.000000   \nmax             304.400000               313.600000             2833.000000   \n\n       Torque [Nm]  Tool wear [min]  Machine failure    TWF    HDF    PWF  \\\ncount   503.000000       503.000000            503.0  503.0  503.0  503.0   \nmean     47.170378       121.282306              1.0    0.0    0.0    0.0   \nstd      12.955505        72.976636              0.0    0.0    0.0    0.0   \nmin       5.600000         0.000000              1.0    0.0    0.0    0.0   \n25%      40.100000        58.000000              1.0    0.0    0.0    0.0   \n50%      48.300000       125.000000              1.0    0.0    0.0    0.0   \n75%      55.900000       192.000000              1.0    0.0    0.0    0.0   \nmax      76.600000       246.000000              1.0    0.0    0.0    0.0   \n\n         OSF    RNF  \ncount  503.0  503.0  \nmean     0.0    0.0  \nstd      0.0    0.0  \nmin      0.0    0.0  \n25%      0.0    0.0  \n50%      0.0    0.0  \n75%      0.0    0.0  \nmax      0.0    0.0  ",
      "text/html": "<div>\n<style scoped>\n    .dataframe tbody tr th:only-of-type {\n        vertical-align: middle;\n    }\n\n    .dataframe tbody tr th {\n        vertical-align: top;\n    }\n\n    .dataframe thead th {\n        text-align: right;\n    }\n</style>\n<table border=\"1\" class=\"dataframe\">\n  <thead>\n    <tr style=\"text-align: right;\">\n      <th></th>\n      <th>Air temperature [K]</th>\n      <th>Process temperature [K]</th>\n      <th>Rotational speed [rpm]</th>\n      <th>Torque [Nm]</th>\n      <th>Tool wear [min]</th>\n      <th>Machine failure</th>\n      <th>TWF</th>\n      <th>HDF</th>\n      <th>PWF</th>\n      <th>OSF</th>\n      <th>RNF</th>\n    </tr>\n  </thead>\n  <tbody>\n    <tr>\n      <th>count</th>\n      <td>503.000000</td>\n      <td>503.000000</td>\n      <td>503.000000</td>\n      <td>503.000000</td>\n      <td>503.000000</td>\n      <td>503.0</td>\n      <td>503.0</td>\n      <td>503.0</td>\n      <td>503.0</td>\n      <td>503.0</td>\n      <td>503.0</td>\n    </tr>\n    <tr>\n      <th>mean</th>\n      <td>300.358250</td>\n      <td>310.109344</td>\n      <td>1486.357853</td>\n      <td>47.170378</td>\n      <td>121.282306</td>\n      <td>1.0</td>\n      <td>0.0</td>\n      <td>0.0</td>\n      <td>0.0</td>\n      <td>0.0</td>\n      <td>0.0</td>\n    </tr>\n    <tr>\n      <th>std</th>\n      <td>2.029682</td>\n      <td>1.387800</td>\n      <td>268.843078</td>\n      <td>12.955505</td>\n      <td>72.976636</td>\n      <td>0.0</td>\n      <td>0.0</td>\n      <td>0.0</td>\n      <td>0.0</td>\n      <td>0.0</td>\n      <td>0.0</td>\n    </tr>\n    <tr>\n      <th>min</th>\n      <td>295.600000</td>\n      <td>306.000000</td>\n      <td>1183.000000</td>\n      <td>5.600000</td>\n      <td>0.000000</td>\n      <td>1.0</td>\n      <td>0.0</td>\n      <td>0.0</td>\n      <td>0.0</td>\n      <td>0.0</td>\n      <td>0.0</td>\n    </tr>\n    <tr>\n      <th>25%</th>\n      <td>298.800000</td>\n      <td>309.100000</td>\n      <td>1356.500000</td>\n      <td>40.100000</td>\n      <td>58.000000</td>\n      <td>1.0</td>\n      <td>0.0</td>\n      <td>0.0</td>\n      <td>0.0</td>\n      <td>0.0</td>\n      <td>0.0</td>\n    </tr>\n    <tr>\n      <th>50%</th>\n      <td>300.500000</td>\n      <td>310.300000</td>\n      <td>1400.000000</td>\n      <td>48.300000</td>\n      <td>125.000000</td>\n      <td>1.0</td>\n      <td>0.0</td>\n      <td>0.0</td>\n      <td>0.0</td>\n      <td>0.0</td>\n      <td>0.0</td>\n    </tr>\n    <tr>\n      <th>75%</th>\n      <td>302.100000</td>\n      <td>311.000000</td>\n      <td>1510.000000</td>\n      <td>55.900000</td>\n      <td>192.000000</td>\n      <td>1.0</td>\n      <td>0.0</td>\n      <td>0.0</td>\n      <td>0.0</td>\n      <td>0.0</td>\n      <td>0.0</td>\n    </tr>\n    <tr>\n      <th>max</th>\n      <td>304.400000</td>\n      <td>313.600000</td>\n      <td>2833.000000</td>\n      <td>76.600000</td>\n      <td>246.000000</td>\n      <td>1.0</td>\n      <td>0.0</td>\n      <td>0.0</td>\n      <td>0.0</td>\n      <td>0.0</td>\n      <td>0.0</td>\n    </tr>\n  </tbody>\n</table>\n</div>"
     },
     "execution_count": 103,
     "metadata": {},
     "output_type": "execute_result"
    }
   ],
   "source": [
    "# изучим поломки без причин\n",
    "df_1 = train[train.index.isin(failure_ixs)]\n",
    "df_1.describe()"
   ],
   "metadata": {
    "collapsed": false,
    "ExecuteTime": {
     "end_time": "2024-03-13T09:56:01.477286Z",
     "start_time": "2024-03-13T09:56:01.450620400Z"
    }
   },
   "id": "4c80f2fc55aec7d0",
   "execution_count": 103
  },
  {
   "cell_type": "code",
   "outputs": [
    {
     "data": {
      "text/plain": "       Air temperature [K]  Process temperature [K]  Rotational speed [rpm]  \\\ncount          1626.000000              1626.000000             1626.000000   \nmean            301.025215               310.337515             1442.605781   \nstd               1.973574                 1.208852              287.139812   \nmin             295.600000               306.000000             1181.000000   \n25%             299.400000               309.700000             1337.000000   \n50%             301.800000               310.500000             1365.000000   \n75%             302.500000               311.100000             1403.000000   \nmax             304.300000               313.600000             2886.000000   \n\n       Torque [Nm]  Tool wear [min]  Machine failure          TWF  \\\ncount  1626.000000      1626.000000           1626.0  1626.000000   \nmean     51.112054       136.420049              1.0     0.127921   \nstd      13.164085        73.404557              0.0     0.334105   \nmin       3.800000         0.000000              1.0     0.000000   \n25%      46.625000        74.000000              1.0     0.000000   \n50%      53.000000       159.000000              1.0     0.000000   \n75%      59.100000       203.000000              1.0     0.000000   \nmax      76.600000       253.000000              1.0     1.000000   \n\n               HDF          PWF          OSF          RNF  \ncount  1626.000000  1626.000000  1626.000000  1626.000000  \nmean      0.428044     0.194957     0.325953     0.003690  \nstd       0.494948     0.396289     0.468874     0.060652  \nmin       0.000000     0.000000     0.000000     0.000000  \n25%       0.000000     0.000000     0.000000     0.000000  \n50%       0.000000     0.000000     0.000000     0.000000  \n75%       1.000000     0.000000     1.000000     0.000000  \nmax       1.000000     1.000000     1.000000     1.000000  ",
      "text/html": "<div>\n<style scoped>\n    .dataframe tbody tr th:only-of-type {\n        vertical-align: middle;\n    }\n\n    .dataframe tbody tr th {\n        vertical-align: top;\n    }\n\n    .dataframe thead th {\n        text-align: right;\n    }\n</style>\n<table border=\"1\" class=\"dataframe\">\n  <thead>\n    <tr style=\"text-align: right;\">\n      <th></th>\n      <th>Air temperature [K]</th>\n      <th>Process temperature [K]</th>\n      <th>Rotational speed [rpm]</th>\n      <th>Torque [Nm]</th>\n      <th>Tool wear [min]</th>\n      <th>Machine failure</th>\n      <th>TWF</th>\n      <th>HDF</th>\n      <th>PWF</th>\n      <th>OSF</th>\n      <th>RNF</th>\n    </tr>\n  </thead>\n  <tbody>\n    <tr>\n      <th>count</th>\n      <td>1626.000000</td>\n      <td>1626.000000</td>\n      <td>1626.000000</td>\n      <td>1626.000000</td>\n      <td>1626.000000</td>\n      <td>1626.0</td>\n      <td>1626.000000</td>\n      <td>1626.000000</td>\n      <td>1626.000000</td>\n      <td>1626.000000</td>\n      <td>1626.000000</td>\n    </tr>\n    <tr>\n      <th>mean</th>\n      <td>301.025215</td>\n      <td>310.337515</td>\n      <td>1442.605781</td>\n      <td>51.112054</td>\n      <td>136.420049</td>\n      <td>1.0</td>\n      <td>0.127921</td>\n      <td>0.428044</td>\n      <td>0.194957</td>\n      <td>0.325953</td>\n      <td>0.003690</td>\n    </tr>\n    <tr>\n      <th>std</th>\n      <td>1.973574</td>\n      <td>1.208852</td>\n      <td>287.139812</td>\n      <td>13.164085</td>\n      <td>73.404557</td>\n      <td>0.0</td>\n      <td>0.334105</td>\n      <td>0.494948</td>\n      <td>0.396289</td>\n      <td>0.468874</td>\n      <td>0.060652</td>\n    </tr>\n    <tr>\n      <th>min</th>\n      <td>295.600000</td>\n      <td>306.000000</td>\n      <td>1181.000000</td>\n      <td>3.800000</td>\n      <td>0.000000</td>\n      <td>1.0</td>\n      <td>0.000000</td>\n      <td>0.000000</td>\n      <td>0.000000</td>\n      <td>0.000000</td>\n      <td>0.000000</td>\n    </tr>\n    <tr>\n      <th>25%</th>\n      <td>299.400000</td>\n      <td>309.700000</td>\n      <td>1337.000000</td>\n      <td>46.625000</td>\n      <td>74.000000</td>\n      <td>1.0</td>\n      <td>0.000000</td>\n      <td>0.000000</td>\n      <td>0.000000</td>\n      <td>0.000000</td>\n      <td>0.000000</td>\n    </tr>\n    <tr>\n      <th>50%</th>\n      <td>301.800000</td>\n      <td>310.500000</td>\n      <td>1365.000000</td>\n      <td>53.000000</td>\n      <td>159.000000</td>\n      <td>1.0</td>\n      <td>0.000000</td>\n      <td>0.000000</td>\n      <td>0.000000</td>\n      <td>0.000000</td>\n      <td>0.000000</td>\n    </tr>\n    <tr>\n      <th>75%</th>\n      <td>302.500000</td>\n      <td>311.100000</td>\n      <td>1403.000000</td>\n      <td>59.100000</td>\n      <td>203.000000</td>\n      <td>1.0</td>\n      <td>0.000000</td>\n      <td>1.000000</td>\n      <td>0.000000</td>\n      <td>1.000000</td>\n      <td>0.000000</td>\n    </tr>\n    <tr>\n      <th>max</th>\n      <td>304.300000</td>\n      <td>313.600000</td>\n      <td>2886.000000</td>\n      <td>76.600000</td>\n      <td>253.000000</td>\n      <td>1.0</td>\n      <td>1.000000</td>\n      <td>1.000000</td>\n      <td>1.000000</td>\n      <td>1.000000</td>\n      <td>1.000000</td>\n    </tr>\n  </tbody>\n</table>\n</div>"
     },
     "execution_count": 104,
     "metadata": {},
     "output_type": "execute_result"
    }
   ],
   "source": [
    "# изучим поломки с причинами\n",
    "df_2 = train[train.index.isin(not_failure_ixs)]\n",
    "df_2.describe()"
   ],
   "metadata": {
    "collapsed": false,
    "ExecuteTime": {
     "end_time": "2024-03-13T09:56:47.187545500Z",
     "start_time": "2024-03-13T09:56:47.156791500Z"
    }
   },
   "id": "8759a915b23fde66",
   "execution_count": 104
  },
  {
   "cell_type": "markdown",
   "source": [],
   "metadata": {
    "collapsed": false
   },
   "id": "c7c20a07e158bb7d"
  },
  {
   "cell_type": "code",
   "outputs": [
    {
     "data": {
      "text/plain": "                temperature_diff       \n                            mean median\nMachine failure                        \n0                      10.088775    9.9\n1                       9.751093    9.7",
      "text/html": "<div>\n<style scoped>\n    .dataframe tbody tr th:only-of-type {\n        vertical-align: middle;\n    }\n\n    .dataframe tbody tr th {\n        vertical-align: top;\n    }\n\n    .dataframe thead tr th {\n        text-align: left;\n    }\n\n    .dataframe thead tr:last-of-type th {\n        text-align: right;\n    }\n</style>\n<table border=\"1\" class=\"dataframe\">\n  <thead>\n    <tr>\n      <th></th>\n      <th colspan=\"2\" halign=\"left\">temperature_diff</th>\n    </tr>\n    <tr>\n      <th></th>\n      <th>mean</th>\n      <th>median</th>\n    </tr>\n    <tr>\n      <th>Machine failure</th>\n      <th></th>\n      <th></th>\n    </tr>\n  </thead>\n  <tbody>\n    <tr>\n      <th>0</th>\n      <td>10.088775</td>\n      <td>9.9</td>\n    </tr>\n    <tr>\n      <th>1</th>\n      <td>9.751093</td>\n      <td>9.7</td>\n    </tr>\n  </tbody>\n</table>\n</div>"
     },
     "execution_count": 153,
     "metadata": {},
     "output_type": "execute_result"
    }
   ],
   "source": [
    "temp_df = train[train.iloc[:,-5:].sum(axis=1) == 0]\n",
    "\n",
    "temp_df['temperature_diff'] = abs(temp_df['Air temperature [K]'] - temp_df['Process temperature [K]'])\n",
    "\n",
    "temp_df.groupby('Machine failure').agg({'temperature_diff': ['mean', 'median']})"
   ],
   "metadata": {
    "collapsed": false,
    "ExecuteTime": {
     "end_time": "2024-03-14T04:28:28.493230300Z",
     "start_time": "2024-03-14T04:28:28.442166200Z"
    }
   },
   "id": "680ba59fb601847d",
   "execution_count": 153
  },
  {
   "cell_type": "code",
   "outputs": [
    {
     "data": {
      "text/plain": "<seaborn.axisgrid.PairGrid at 0x29812149c70>"
     },
     "execution_count": 155,
     "metadata": {},
     "output_type": "execute_result"
    },
    {
     "data": {
      "text/plain": "<Figure size 355.611x250 with 2 Axes>",
      "image/png": "[encoded data removed]"
     },
     "metadata": {},
     "output_type": "display_data"
    }
   ],
   "source": [
    "sns.pairplot(temp_df[['temperature_diff', 'Machine failure']], hue='Machine failure')"
   ],
   "metadata": {
    "collapsed": false,
    "ExecuteTime": {
     "end_time": "2024-03-14T04:39:22.563058200Z",
     "start_time": "2024-03-14T04:39:21.648421Z"
    }
   },
   "id": "19f01630fac55927",
   "execution_count": 155
  },
  {
   "cell_type": "markdown",
   "source": [
    "#### Making new features"
   ],
   "metadata": {
    "collapsed": false
   },
   "id": "7feb845c36036e9"
  },
  {
   "cell_type": "code",
   "outputs": [],
   "source": [
    "# добавим фичу по разнице температур\n",
    "x['temp_diff'] = x['Air temperature [K]'] - x['Process temperature [K]']\n",
    "test['temp_diff'] = test['Air temperature [K]'] - test['Process temperature [K]']"
   ],
   "metadata": {
    "collapsed": false,
    "ExecuteTime": {
     "end_time": "2024-03-14T05:04:27.731675500Z",
     "start_time": "2024-03-14T05:04:27.723645Z"
    }
   },
   "id": "5c80acf3d280ec6e",
   "execution_count": 164
  },
  {
   "cell_type": "code",
   "outputs": [],
   "source": [
    "# Добавим столбец с количеством поломок\n",
    "x['failure_count'] = x.iloc[:, -5:-1].sum(axis=1)\n",
    "test['failure_count'] = train.iloc[:, -5:-1].sum(axis=1)"
   ],
   "metadata": {
    "collapsed": false,
    "ExecuteTime": {
     "end_time": "2024-03-13T10:53:11.468444100Z",
     "start_time": "2024-03-13T10:53:11.440428900Z"
    }
   },
   "id": "bd212e5fe720db93",
   "execution_count": 115
  },
  {
   "cell_type": "code",
   "outputs": [],
   "source": [
    "# Вытаскиваем инфу из Product ID\n",
    "# x['Product ID'] = x['Product ID'].apply(lambda x: int(x[1:]))\n",
    "test['Product ID'] = test['Product ID'].apply(lambda x: int(x[1:]))"
   ],
   "metadata": {
    "collapsed": false,
    "ExecuteTime": {
     "end_time": "2024-03-14T05:09:56.531576Z",
     "start_time": "2024-03-14T05:09:56.500516100Z"
    }
   },
   "id": "6d50f52062d65832",
   "execution_count": 167
  },
  {
   "cell_type": "markdown",
   "source": [],
   "metadata": {
    "collapsed": false
   },
   "id": "d7aca9c3aea3711b"
  },
  {
   "cell_type": "markdown",
   "source": [
    "### Machine learning"
   ],
   "metadata": {
    "collapsed": false
   },
   "id": "e578ff6903ed2af"
  },
  {
   "cell_type": "code",
   "outputs": [],
   "source": [
    "cat_cols = ['Type']\n",
    "num_cols = x.dtypes[x.dtypes != 'object'].index.to_list()"
   ],
   "metadata": {
    "collapsed": false,
    "ExecuteTime": {
     "end_time": "2024-03-14T05:25:05.384588400Z",
     "start_time": "2024-03-14T05:25:05.355616200Z"
    }
   },
   "id": "d9bb47dc51924e64",
   "execution_count": 180
  },
  {
   "cell_type": "code",
   "outputs": [],
   "source": [
    "CT_tree = ColumnTransformer([\n",
    "    (\"encoder\", OrdinalEncoder(), cat_cols),\n",
    "    ], remainder='passthrough')\n",
    "\n",
    "CT_linear = ColumnTransformer([\n",
    "    (\"encoder\", OneHotEncoder(), cat_cols),\n",
    "    (\"poly\", PolynomialFeatures(degree=3), num_cols)\n",
    "    ], remainder='passthrough')"
   ],
   "metadata": {
    "collapsed": false,
    "ExecuteTime": {
     "end_time": "2024-03-14T05:25:05.837214900Z",
     "start_time": "2024-03-14T05:25:05.828684300Z"
    }
   },
   "id": "2f24be5c946c0b92",
   "execution_count": 181
  },
  {
   "cell_type": "code",
   "outputs": [],
   "source": [
    "def grid_model(model, CT, n_splits=3, param_grid=[{}]):\n",
    "    \n",
    "    pipe = Pipeline([\n",
    "                     ('preprocessing', CT),\n",
    "                     ('scaler', StandardScaler()),\n",
    "                     ('SMOTE', SMOTE(sampling_strategy=0.2, random_state=RS)),\n",
    "                     ('classifier', model),\n",
    "                     ])\n",
    "\n",
    "\n",
    "    cross_val = StratifiedKFold(n_splits=n_splits, shuffle=True, random_state=RS)\n",
    "    \n",
    "    grid = GridSearchCV(pipe, param_grid, cv=cross_val,\n",
    "                        return_train_score=True,\n",
    "                        n_jobs=-1, scoring='roc_auc')\n",
    "    \n",
    "    grid.fit(x, y)\n",
    "    display(pd.DataFrame(grid.cv_results_).sort_values(['rank_test_score'], ascending=[True]).T)"
   ],
   "metadata": {
    "collapsed": false,
    "ExecuteTime": {
     "end_time": "2024-03-14T05:25:06.312145100Z",
     "start_time": "2024-03-14T05:25:06.301488300Z"
    }
   },
   "id": "fd519d12efb81fb5",
   "execution_count": 182
  },
  {
   "cell_type": "code",
   "outputs": [],
   "source": [
    "def predict_by_model(model, CT, test):\n",
    "    \n",
    "    pipe = Pipeline([\n",
    "                     ('preprocessing', CT),\n",
    "                     ('scaler', StandardScaler()),\n",
    "                     ('SMOTE', SMOTE(sampling_strategy=0.2, random_state=RS)),\n",
    "                     ('classifier', model),\n",
    "                     ])\n",
    "    \n",
    "    pipe.fit(x,y)\n",
    "    return pipe.predict(test)"
   ],
   "metadata": {
    "collapsed": false,
    "ExecuteTime": {
     "end_time": "2024-03-14T05:25:07.453566Z",
     "start_time": "2024-03-14T05:25:07.444105200Z"
    }
   },
   "id": "d62d91576be3c77f",
   "execution_count": 183
  },
  {
   "cell_type": "code",
   "outputs": [
    {
     "data": {
      "text/plain": "                           0\nmean_fit_time       0.545909\nstd_fit_time        0.004612\nmean_score_time     0.045303\nstd_score_time      0.000647\nparams                    {}\nsplit0_test_score    0.95683\nsplit1_test_score   0.967863\nsplit2_test_score   0.953313\nmean_test_score     0.959335\nstd_test_score      0.006198\nrank_test_score            1\nsplit0_train_score  0.978255\nsplit1_train_score  0.978339\nsplit2_train_score  0.978987\nmean_train_score    0.978527\nstd_train_score     0.000327",
      "text/html": "<div>\n<style scoped>\n    .dataframe tbody tr th:only-of-type {\n        vertical-align: middle;\n    }\n\n    .dataframe tbody tr th {\n        vertical-align: top;\n    }\n\n    .dataframe thead th {\n        text-align: right;\n    }\n</style>\n<table border=\"1\" class=\"dataframe\">\n  <thead>\n    <tr style=\"text-align: right;\">\n      <th></th>\n      <th>0</th>\n    </tr>\n  </thead>\n  <tbody>\n    <tr>\n      <th>mean_fit_time</th>\n      <td>0.545909</td>\n    </tr>\n    <tr>\n      <th>std_fit_time</th>\n      <td>0.004612</td>\n    </tr>\n    <tr>\n      <th>mean_score_time</th>\n      <td>0.045303</td>\n    </tr>\n    <tr>\n      <th>std_score_time</th>\n      <td>0.000647</td>\n    </tr>\n    <tr>\n      <th>params</th>\n      <td>{}</td>\n    </tr>\n    <tr>\n      <th>split0_test_score</th>\n      <td>0.95683</td>\n    </tr>\n    <tr>\n      <th>split1_test_score</th>\n      <td>0.967863</td>\n    </tr>\n    <tr>\n      <th>split2_test_score</th>\n      <td>0.953313</td>\n    </tr>\n    <tr>\n      <th>mean_test_score</th>\n      <td>0.959335</td>\n    </tr>\n    <tr>\n      <th>std_test_score</th>\n      <td>0.006198</td>\n    </tr>\n    <tr>\n      <th>rank_test_score</th>\n      <td>1</td>\n    </tr>\n    <tr>\n      <th>split0_train_score</th>\n      <td>0.978255</td>\n    </tr>\n    <tr>\n      <th>split1_train_score</th>\n      <td>0.978339</td>\n    </tr>\n    <tr>\n      <th>split2_train_score</th>\n      <td>0.978987</td>\n    </tr>\n    <tr>\n      <th>mean_train_score</th>\n      <td>0.978527</td>\n    </tr>\n    <tr>\n      <th>std_train_score</th>\n      <td>0.000327</td>\n    </tr>\n  </tbody>\n</table>\n</div>"
     },
     "metadata": {},
     "output_type": "display_data"
    }
   ],
   "source": [
    "model = XGBClassifier(max_depth=3, random_state=RS)\n",
    "param_grid=[{\n",
    "    # 'classifier__n_estimators': [10, 100, 300]\n",
    "    # 'SMOTE__learning_rate': [0.1, 0.5, 0.9]\n",
    "}]\n",
    "\n",
    "grid_model(model, CT_tree)"
   ],
   "metadata": {
    "collapsed": false,
    "ExecuteTime": {
     "end_time": "2024-03-14T05:25:17.733299600Z",
     "start_time": "2024-03-14T05:25:15.324996400Z"
    }
   },
   "id": "df9add00d097c0a0",
   "execution_count": 184
  },
  {
   "cell_type": "markdown",
   "source": [],
   "metadata": {
    "collapsed": false
   },
   "id": "a538f1acaf0a6942"
  },
  {
   "cell_type": "markdown",
   "source": [
    "#### XGBoost"
   ],
   "metadata": {
    "collapsed": false
   },
   "id": "b9e012ca4ac8415e"
  },
  {
   "cell_type": "code",
   "outputs": [
    {
     "data": {
      "text/plain": "                           0\nmean_fit_time        0.54648\nstd_fit_time        0.002302\nmean_score_time     0.078353\nstd_score_time      0.001081\nparams                    {}\nsplit0_test_score   0.953474\nsplit1_test_score   0.966932\nsplit2_test_score   0.957169\nmean_test_score     0.959192\nstd_test_score      0.005677\nrank_test_score            1\nsplit0_train_score  0.999121\nsplit1_train_score  0.999323\nsplit2_train_score  0.999213\nmean_train_score    0.999219\nstd_train_score     0.000083",
      "text/html": "<div>\n<style scoped>\n    .dataframe tbody tr th:only-of-type {\n        vertical-align: middle;\n    }\n\n    .dataframe tbody tr th {\n        vertical-align: top;\n    }\n\n    .dataframe thead th {\n        text-align: right;\n    }\n</style>\n<table border=\"1\" class=\"dataframe\">\n  <thead>\n    <tr style=\"text-align: right;\">\n      <th></th>\n      <th>0</th>\n    </tr>\n  </thead>\n  <tbody>\n    <tr>\n      <th>mean_fit_time</th>\n      <td>0.54648</td>\n    </tr>\n    <tr>\n      <th>std_fit_time</th>\n      <td>0.002302</td>\n    </tr>\n    <tr>\n      <th>mean_score_time</th>\n      <td>0.078353</td>\n    </tr>\n    <tr>\n      <th>std_score_time</th>\n      <td>0.001081</td>\n    </tr>\n    <tr>\n      <th>params</th>\n      <td>{}</td>\n    </tr>\n    <tr>\n      <th>split0_test_score</th>\n      <td>0.953474</td>\n    </tr>\n    <tr>\n      <th>split1_test_score</th>\n      <td>0.966932</td>\n    </tr>\n    <tr>\n      <th>split2_test_score</th>\n      <td>0.957169</td>\n    </tr>\n    <tr>\n      <th>mean_test_score</th>\n      <td>0.959192</td>\n    </tr>\n    <tr>\n      <th>std_test_score</th>\n      <td>0.005677</td>\n    </tr>\n    <tr>\n      <th>rank_test_score</th>\n      <td>1</td>\n    </tr>\n    <tr>\n      <th>split0_train_score</th>\n      <td>0.999121</td>\n    </tr>\n    <tr>\n      <th>split1_train_score</th>\n      <td>0.999323</td>\n    </tr>\n    <tr>\n      <th>split2_train_score</th>\n      <td>0.999213</td>\n    </tr>\n    <tr>\n      <th>mean_train_score</th>\n      <td>0.999219</td>\n    </tr>\n    <tr>\n      <th>std_train_score</th>\n      <td>0.000083</td>\n    </tr>\n  </tbody>\n</table>\n</div>"
     },
     "execution_count": 118,
     "metadata": {},
     "output_type": "execute_result"
    }
   ],
   "source": [
    "CT = ColumnTransformer([\n",
    "    (\"scaler\", OrdinalEncoder(), cat_cols),\n",
    "    ], remainder='passthrough')\n",
    "\n",
    "\n",
    "pipe = Pipeline([\n",
    "                 ('preprocessing', CT),\n",
    "                 ('scaler', StandardScaler()),\n",
    "                 ('classifier', XGBClassifier(random_state=RS)),\n",
    "                 ])\n",
    "\n",
    "param_grid = [\n",
    "    {\n",
    "        \n",
    "    }\n",
    "]\n",
    "\n",
    "cross_val = StratifiedKFold(n_splits=3, shuffle=True, random_state=RS)\n",
    "\n",
    "grid = GridSearchCV(pipe, param_grid, cv=cross_val,\n",
    "                    return_train_score=True,\n",
    "                    n_jobs=-1, scoring='roc_auc')\n",
    "\n",
    "grid.fit(x, y)\n",
    "pd.DataFrame(grid.cv_results_).sort_values(['rank_test_score'], ascending=[True]).T"
   ],
   "metadata": {
    "collapsed": false,
    "ExecuteTime": {
     "end_time": "2024-03-13T11:01:42.484930Z",
     "start_time": "2024-03-13T11:01:40.086760900Z"
    }
   },
   "id": "12f6f7fa899f9ae8",
   "execution_count": 118
  },
  {
   "cell_type": "markdown",
   "source": [],
   "metadata": {
    "collapsed": false
   },
   "id": "ae941ff706fd2e1e"
  },
  {
   "cell_type": "markdown",
   "source": [
    "#### Random Forest"
   ],
   "metadata": {
    "collapsed": false
   },
   "id": "930977a567e89f26"
  },
  {
   "cell_type": "code",
   "outputs": [
    {
     "data": {
      "text/plain": "                           0\nmean_fit_time       1.927848\nstd_fit_time        0.025117\nmean_score_time     0.065821\nstd_score_time      0.003899\nparams                    {}\nsplit0_test_score   0.947829\nsplit1_test_score   0.961969\nsplit2_test_score   0.947791\nmean_test_score     0.952529\nstd_test_score      0.006674\nrank_test_score            1\nsplit0_train_score  0.955039\nsplit1_train_score  0.950069\nsplit2_train_score  0.955383\nmean_train_score    0.953497\nstd_train_score     0.002428",
      "text/html": "<div>\n<style scoped>\n    .dataframe tbody tr th:only-of-type {\n        vertical-align: middle;\n    }\n\n    .dataframe tbody tr th {\n        vertical-align: top;\n    }\n\n    .dataframe thead th {\n        text-align: right;\n    }\n</style>\n<table border=\"1\" class=\"dataframe\">\n  <thead>\n    <tr style=\"text-align: right;\">\n      <th></th>\n      <th>0</th>\n    </tr>\n  </thead>\n  <tbody>\n    <tr>\n      <th>mean_fit_time</th>\n      <td>1.927848</td>\n    </tr>\n    <tr>\n      <th>std_fit_time</th>\n      <td>0.025117</td>\n    </tr>\n    <tr>\n      <th>mean_score_time</th>\n      <td>0.065821</td>\n    </tr>\n    <tr>\n      <th>std_score_time</th>\n      <td>0.003899</td>\n    </tr>\n    <tr>\n      <th>params</th>\n      <td>{}</td>\n    </tr>\n    <tr>\n      <th>split0_test_score</th>\n      <td>0.947829</td>\n    </tr>\n    <tr>\n      <th>split1_test_score</th>\n      <td>0.961969</td>\n    </tr>\n    <tr>\n      <th>split2_test_score</th>\n      <td>0.947791</td>\n    </tr>\n    <tr>\n      <th>mean_test_score</th>\n      <td>0.952529</td>\n    </tr>\n    <tr>\n      <th>std_test_score</th>\n      <td>0.006674</td>\n    </tr>\n    <tr>\n      <th>rank_test_score</th>\n      <td>1</td>\n    </tr>\n    <tr>\n      <th>split0_train_score</th>\n      <td>0.955039</td>\n    </tr>\n    <tr>\n      <th>split1_train_score</th>\n      <td>0.950069</td>\n    </tr>\n    <tr>\n      <th>split2_train_score</th>\n      <td>0.955383</td>\n    </tr>\n    <tr>\n      <th>mean_train_score</th>\n      <td>0.953497</td>\n    </tr>\n    <tr>\n      <th>std_train_score</th>\n      <td>0.002428</td>\n    </tr>\n  </tbody>\n</table>\n</div>"
     },
     "execution_count": 122,
     "metadata": {},
     "output_type": "execute_result"
    }
   ],
   "source": [
    "pipe = Pipeline([\n",
    "                 ('preprocessing', CT),\n",
    "                 ('scaler', StandardScaler()),\n",
    "                 ('classifier', RandomForestClassifier(max_depth=3, random_state=RS)),\n",
    "                 ])\n",
    "\n",
    "\n",
    "param_grid = [\n",
    "    {\n",
    "\n",
    "    }\n",
    "]\n",
    "\n",
    "cross_val = StratifiedKFold(n_splits=3, shuffle=True, random_state=RS)\n",
    "\n",
    "grid = GridSearchCV(pipe, param_grid, cv=cross_val,\n",
    "                    return_train_score=True,\n",
    "                    n_jobs=-1, scoring='roc_auc')  # решетчатый пойск\n",
    "\n",
    "grid.fit(x, y)\n",
    "pd.DataFrame(grid.cv_results_).sort_values(['rank_test_score'], ascending=[True]).T"
   ],
   "metadata": {
    "collapsed": false,
    "ExecuteTime": {
     "end_time": "2024-03-13T11:10:22.435108400Z",
     "start_time": "2024-03-13T11:10:16.976303100Z"
    }
   },
   "id": "1b7a5392d9a002bb",
   "execution_count": 122
  },
  {
   "cell_type": "markdown",
   "source": [],
   "metadata": {
    "collapsed": false
   },
   "id": "f739a25341e88283"
  },
  {
   "cell_type": "markdown",
   "source": [
    "#### Logistic Regression"
   ],
   "metadata": {
    "collapsed": false
   },
   "id": "e1e7f38288fa72fd"
  },
  {
   "cell_type": "code",
   "outputs": [],
   "source": [
    "pipe = Pipeline([\n",
    "                 ('preprocessing', CT),\n",
    "                 ('scaler', StandardScaler()),\n",
    "                 ('classifier', LogisticRegression(random_state=RS)),\n",
    "                 ])\n",
    "\n",
    "param_grid = [\n",
    "    {\n",
    "\n",
    "    }\n",
    "]\n",
    "\n",
    "cross_val = StratifiedKFold(n_splits=5, shuffle=True, random_state=RS)\n",
    "\n",
    "grid = GridSearchCV(pipe, param_grid, cv=cross_val,\n",
    "                    return_train_score=True,\n",
    "                    n_jobs=-1, scoring='roc_auc')  # решетчатый пойск\n",
    "\n",
    "grid.fit(x, y)\n",
    "pd.DataFrame(grid.cv_results_).sort_values(['rank_test_score'], ascending=[True]).T"
   ],
   "metadata": {
    "collapsed": false
   },
   "id": "bcb305d4a7442fa2",
   "execution_count": null
  },
  {
   "cell_type": "markdown",
   "source": [],
   "metadata": {
    "collapsed": false
   },
   "id": "6a6e3fc8a432dcc4"
  },
  {
   "cell_type": "markdown",
   "source": [
    "#### SMOTE "
   ],
   "metadata": {
    "collapsed": false
   },
   "id": "366f773083c9e4fb"
  },
  {
   "cell_type": "code",
   "outputs": [
    {
     "data": {
      "text/plain": "                             0\nmean_fit_time       282.320963\nstd_fit_time          20.51866\nmean_score_time       0.294529\nstd_score_time        0.072539\nparams                      {}\nsplit0_test_score     0.956834\nsplit1_test_score     0.951734\nsplit2_test_score     0.964729\nsplit3_test_score     0.941761\nsplit4_test_score     0.960629\nmean_test_score       0.955137\nstd_test_score        0.007944\nrank_test_score              1\nsplit0_train_score    0.960493\nsplit1_train_score    0.961144\nsplit2_train_score    0.957374\nsplit3_train_score    0.962276\nsplit4_train_score    0.958071\nmean_train_score      0.959872\nstd_train_score       0.001858",
      "text/html": "<div>\n<style scoped>\n    .dataframe tbody tr th:only-of-type {\n        vertical-align: middle;\n    }\n\n    .dataframe tbody tr th {\n        vertical-align: top;\n    }\n\n    .dataframe thead th {\n        text-align: right;\n    }\n</style>\n<table border=\"1\" class=\"dataframe\">\n  <thead>\n    <tr style=\"text-align: right;\">\n      <th></th>\n      <th>0</th>\n    </tr>\n  </thead>\n  <tbody>\n    <tr>\n      <th>mean_fit_time</th>\n      <td>282.320963</td>\n    </tr>\n    <tr>\n      <th>std_fit_time</th>\n      <td>20.51866</td>\n    </tr>\n    <tr>\n      <th>mean_score_time</th>\n      <td>0.294529</td>\n    </tr>\n    <tr>\n      <th>std_score_time</th>\n      <td>0.072539</td>\n    </tr>\n    <tr>\n      <th>params</th>\n      <td>{}</td>\n    </tr>\n    <tr>\n      <th>split0_test_score</th>\n      <td>0.956834</td>\n    </tr>\n    <tr>\n      <th>split1_test_score</th>\n      <td>0.951734</td>\n    </tr>\n    <tr>\n      <th>split2_test_score</th>\n      <td>0.964729</td>\n    </tr>\n    <tr>\n      <th>split3_test_score</th>\n      <td>0.941761</td>\n    </tr>\n    <tr>\n      <th>split4_test_score</th>\n      <td>0.960629</td>\n    </tr>\n    <tr>\n      <th>mean_test_score</th>\n      <td>0.955137</td>\n    </tr>\n    <tr>\n      <th>std_test_score</th>\n      <td>0.007944</td>\n    </tr>\n    <tr>\n      <th>rank_test_score</th>\n      <td>1</td>\n    </tr>\n    <tr>\n      <th>split0_train_score</th>\n      <td>0.960493</td>\n    </tr>\n    <tr>\n      <th>split1_train_score</th>\n      <td>0.961144</td>\n    </tr>\n    <tr>\n      <th>split2_train_score</th>\n      <td>0.957374</td>\n    </tr>\n    <tr>\n      <th>split3_train_score</th>\n      <td>0.962276</td>\n    </tr>\n    <tr>\n      <th>split4_train_score</th>\n      <td>0.958071</td>\n    </tr>\n    <tr>\n      <th>mean_train_score</th>\n      <td>0.959872</td>\n    </tr>\n    <tr>\n      <th>std_train_score</th>\n      <td>0.001858</td>\n    </tr>\n  </tbody>\n</table>\n</div>"
     },
     "execution_count": 128,
     "metadata": {},
     "output_type": "execute_result"
    }
   ],
   "source": [
    "# LogisticRegression SMOTE\n",
    "CT = ColumnTransformer([\n",
    "    (\"scaler\", OneHotEncoder(), cat_cols),\n",
    "    (\"poly\", PolynomialFeatures(degree=3), num_cols)],\n",
    "    remainder='passthrough')\n",
    "\n",
    "pipe = Pipeline([\n",
    "                 ('preprocessing', CT),\n",
    "                 ('scaler', StandardScaler()),\n",
    "                 ('SMOTE', SMOTE(random_state=RS)),\n",
    "                 ('classifier', LogisticRegression(solver = 'liblinear', random_state=RS)),\n",
    "                 ])\n",
    "\n",
    "param_grid = [\n",
    "    {\n",
    "        # 'classifier__C': [0.1, 1, 10, 100, 1000]\n",
    "    }\n",
    "]\n",
    "\n",
    "cross_val = StratifiedKFold(n_splits=5, shuffle=True, random_state=RS)\n",
    "\n",
    "grid = GridSearchCV(pipe, param_grid, cv=cross_val,\n",
    "                    return_train_score=True,\n",
    "                    n_jobs=-1, scoring='roc_auc')  # решетчатый пойск\n",
    "\n",
    "grid.fit(x, y)\n",
    "pd.DataFrame(grid.cv_results_).sort_values(['rank_test_score'], ascending=[True]).T"
   ],
   "metadata": {
    "collapsed": false,
    "ExecuteTime": {
     "end_time": "2024-03-13T18:23:17.855382100Z",
     "start_time": "2024-03-13T18:14:43.126520700Z"
    }
   },
   "id": "e99b387a89c6579f",
   "execution_count": 128
  },
  {
   "cell_type": "code",
   "outputs": [],
   "source": [],
   "metadata": {
    "collapsed": false
   },
   "id": "2925e8330c807db5"
  },
  {
   "cell_type": "code",
   "outputs": [],
   "source": [
    "# Random Forest SMOTE\n",
    "CT = ColumnTransformer([\n",
    "    (\"scaler\", OrdinalEncoder(), cat_cols),\n",
    "    (\"poly\", PolynomialFeatures(degree=3), num_cols)\n",
    "],\n",
    "    remainder='passthrough')\n",
    "\n",
    "pipe = Pipeline([('feature_id', CustomTransformer()),\n",
    "                 ('preprocessing', CT),\n",
    "                 ('scaler', StandardScaler()),\n",
    "                 ('SMOTE', SMOTE(random_state=RS)),\n",
    "                 ('classifier', RandomForestClassifier(max_depth=3, random_state=RS)),\n",
    "                 ])\n",
    "\n",
    "param_grid = [\n",
    "    {\n",
    "\n",
    "    }\n",
    "]\n",
    "\n",
    "cross_val = StratifiedKFold(n_splits=5, shuffle=True, random_state=RS)\n",
    "\n",
    "grid = GridSearchCV(pipe, param_grid, cv=cross_val,\n",
    "                    return_train_score=True,\n",
    "                    n_jobs=-1, scoring='roc_auc')  # решетчатый пойск\n",
    "\n",
    "grid.fit(x, y)\n",
    "pd.DataFrame(grid.cv_results_).sort_values(['rank_test_score'], ascending=[True]).T"
   ],
   "metadata": {
    "collapsed": false
   },
   "id": "3340cb686790bced",
   "execution_count": null
  },
  {
   "cell_type": "markdown",
   "source": [],
   "metadata": {
    "collapsed": false
   },
   "id": "2d45abf106cb405f"
  },
  {
   "cell_type": "markdown",
   "source": [
    "### Final Submission"
   ],
   "metadata": {
    "collapsed": false
   },
   "id": "cf6f86f939fff051"
  },
  {
   "cell_type": "code",
   "outputs": [],
   "source": [
    "model = XGBClassifier(max_depth=3, random_state=RS)\n",
    "prediction = predict_by_model(model, CT_tree, test)"
   ],
   "metadata": {
    "collapsed": false,
    "ExecuteTime": {
     "end_time": "2024-03-14T05:25:31.538727800Z",
     "start_time": "2024-03-14T05:25:31.199092800Z"
    }
   },
   "id": "4c86ba25917c9374",
   "execution_count": 185
  },
  {
   "cell_type": "code",
   "outputs": [],
   "source": [
    "prediction"
   ],
   "metadata": {
    "collapsed": false
   },
   "id": "78fd59396642319c",
   "execution_count": null
  },
  {
   "cell_type": "code",
   "outputs": [],
   "source": [
    "submit['Machine failure'] = prediction"
   ],
   "metadata": {
    "collapsed": false,
    "ExecuteTime": {
     "end_time": "2024-03-14T05:26:21.086993600Z",
     "start_time": "2024-03-14T05:26:21.078988700Z"
    }
   },
   "id": "a09bf56cb95c225",
   "execution_count": 189
  },
  {
   "cell_type": "code",
   "outputs": [],
   "source": [
    "submit.to_csv('XGB_feature_engineering.csv')"
   ],
   "metadata": {
    "collapsed": false,
    "ExecuteTime": {
     "end_time": "2024-03-14T05:26:21.771927500Z",
     "start_time": "2024-03-14T05:26:21.701250900Z"
    }
   },
   "id": "599b6fa7c184f952",
   "execution_count": 190
  },
  {
   "cell_type": "markdown",
   "source": [
    "### EDA"
   ],
   "metadata": {
    "collapsed": false
   },
   "id": "2a48f1cf3ac761bc"
  },
  {
   "cell_type": "code",
   "outputs": [],
   "source": [
    "feature = ['Air temperature [K]', 'Process temperature [K]']\n",
    "train[feature].hist(figsize=(10, 4))"
   ],
   "metadata": {
    "collapsed": false
   },
   "id": "d62e3e1f9d22dda3",
   "execution_count": null
  },
  {
   "cell_type": "code",
   "outputs": [],
   "source": [
    "sns.boxplot(x='Torque [Nm]', data=train)"
   ],
   "metadata": {
    "collapsed": false
   },
   "id": "fe099d28b831a212",
   "execution_count": null
  },
  {
   "cell_type": "code",
   "outputs": [],
   "source": [
    "_, axes = plt.subplots(1, 2, sharey=True, figsize=(6, 4))\n",
    "sns.boxplot(data=train[\"Air temperature [K]\"], ax=axes[0])\n",
    "sns.violinplot(data=train[\"Air temperature [K]\"], ax=axes[1]);"
   ],
   "metadata": {
    "collapsed": false
   },
   "id": "61461eb036c31edc",
   "execution_count": null
  },
  {
   "cell_type": "code",
   "outputs": [],
   "source": [
    "_, axes = plt.subplots(nrows=1, ncols=2, figsize=(12, 4))\n",
    "\n",
    "sns.countplot(x=\"Torque [Nm]\", data=train, ax=axes[0])\n",
    "sns.countplot(x=y).set_xlabel('Machine failure');"
   ],
   "metadata": {
    "collapsed": false
   },
   "id": "fe108b0458b1e287",
   "execution_count": null
  },
  {
   "cell_type": "code",
   "outputs": [
    {
     "data": {
      "text/plain": "<Figure size 640x480 with 1 Axes>",
      "image/png": "[encoded data removed]"
     },
     "metadata": {},
     "output_type": "display_data"
    },
    {
     "data": {
      "text/plain": "<Figure size 640x480 with 1 Axes>",
      "image/png": "[encoded data removed]"
     },
     "metadata": {},
     "output_type": "display_data"
    },
    {
     "data": {
      "text/plain": "<Figure size 640x480 with 1 Axes>",
      "image/png": "[encoded data removed]"
     },
     "metadata": {},
     "output_type": "display_data"
    },
    {
     "data": {
      "text/plain": "<Figure size 640x480 with 1 Axes>",
      "image/png": "[encoded data removed]"
     },
     "metadata": {},
     "output_type": "display_data"
    },
    {
     "data": {
      "text/plain": "<Figure size 640x480 with 1 Axes>",
      "image/png": "[encoded data removed]"
     },
     "metadata": {},
     "output_type": "display_data"
    }
   ],
   "source": [
    "temp_df = train[train.iloc[:,-5:].sum(axis=1) == 0]\n",
    "cols = temp_df.columns[2:-6]\n",
    "for col in cols:   \n",
    "    sns.histplot(data=temp_df, x=col, hue='Machine failure')\n",
    "    plt.show()"
   ],
   "metadata": {
    "collapsed": false,
    "ExecuteTime": {
     "end_time": "2024-03-14T03:48:27.587598700Z",
     "start_time": "2024-03-14T03:48:25.832421Z"
    }
   },
   "id": "d6440affaae2f38d",
   "execution_count": 151
  },
  {
   "cell_type": "code",
   "outputs": [],
   "source": [],
   "metadata": {
    "collapsed": false
   },
   "id": "c8f71cb808b5121e"
  },
  {
   "cell_type": "code",
   "outputs": [],
   "source": [],
   "metadata": {
    "collapsed": false
   },
   "id": "db9c696341a08328"
  },
  {
   "cell_type": "code",
   "outputs": [],
   "source": [],
   "metadata": {
    "collapsed": false
   },
   "id": "e652f89881c7a49a"
  },
  {
   "cell_type": "code",
   "outputs": [],
   "source": [],
   "metadata": {
    "collapsed": false
   },
   "id": "62cd8409e4ef3597"
  },
  {
   "cell_type": "code",
   "outputs": [],
   "source": [],
   "metadata": {
    "collapsed": false
   },
   "id": "6d0a5a11f4600404"
  },
  {
   "cell_type": "code",
   "outputs": [],
   "source": [],
   "metadata": {
    "collapsed": false
   },
   "id": "a44ee88a742dd027"
  },
  {
   "cell_type": "code",
   "outputs": [],
   "source": [],
   "metadata": {
    "collapsed": false
   },
   "id": "a5047d44c39c3de6"
  },
  {
   "cell_type": "code",
   "outputs": [],
   "source": [],
   "metadata": {
    "collapsed": false
   },
   "id": "2e8e2ae4c6d21afe"
  },
  {
   "cell_type": "code",
   "outputs": [],
   "source": [],
   "metadata": {
    "collapsed": false
   },
   "id": "713fae2b31046fa0"
  },
  {
   "cell_type": "code",
   "outputs": [],
   "source": [],
   "metadata": {
    "collapsed": false
   },
   "id": "834c0b0a98fcd1a8"
  },
  {
   "cell_type": "code",
   "outputs": [],
   "source": [],
   "metadata": {
    "collapsed": false
   },
   "id": "57b51305297a5ecc"
  },
  {
   "cell_type": "code",
   "outputs": [],
   "source": [],
   "metadata": {
    "collapsed": false
   },
   "id": "954c3f9f17151ad6"
  },
  {
   "cell_type": "code",
   "outputs": [],
   "source": [],
   "metadata": {
    "collapsed": false
   },
   "id": "e4276b4a492562a7"
  },
  {
   "cell_type": "code",
   "outputs": [],
   "source": [],
   "metadata": {
    "collapsed": false
   },
   "id": "8b1ebf6932acf0ca"
  },
  {
   "cell_type": "code",
   "outputs": [],
   "source": [],
   "metadata": {
    "collapsed": false
   },
   "id": "f55a8193dddd06c4"
  },
  {
   "cell_type": "code",
   "outputs": [],
   "source": [],
   "metadata": {
    "collapsed": false
   },
   "id": "b34a1ec9b0446e3b"
  },
  {
   "cell_type": "code",
   "outputs": [],
   "source": [],
   "metadata": {
    "collapsed": false
   },
   "id": "4d3a7c54e05b05a0"
  },
  {
   "cell_type": "code",
   "outputs": [],
   "source": [],
   "metadata": {
    "collapsed": false
   },
   "id": "3f9893056437d53"
  },
  {
   "cell_type": "code",
   "outputs": [],
   "source": [],
   "metadata": {
    "collapsed": false
   },
   "id": "2b252bdfc7aae81b"
  },
  {
   "cell_type": "code",
   "outputs": [],
   "source": [],
   "metadata": {
    "collapsed": false
   },
   "id": "c27aa65636186186"
  },
  {
   "cell_type": "code",
   "outputs": [],
   "source": [],
   "metadata": {
    "collapsed": false
   },
   "id": "152d0d55141cfa7"
  },
  {
   "cell_type": "code",
   "outputs": [],
   "source": [],
   "metadata": {
    "collapsed": false
   },
   "id": "faefd6ce621132a4"
  },
  {
   "cell_type": "code",
   "outputs": [],
   "source": [],
   "metadata": {
    "collapsed": false
   },
   "id": "7e1f2c8c3a2898ba"
  },
  {
   "cell_type": "code",
   "outputs": [],
   "source": [],
   "metadata": {
    "collapsed": false
   },
   "id": "bb03c9ccd4d12e57"
  },
  {
   "cell_type": "code",
   "outputs": [],
   "source": [],
   "metadata": {
    "collapsed": false
   },
   "id": "63122bf6d6c72e0f"
  }
 ],
 "metadata": {
  "kernelspec": {
   "display_name": "Python 3",
   "language": "python",
   "name": "python3"
  },
  "language_info": {
   "codemirror_mode": {
    "name": "ipython",
    "version": 2
   },
   "file_extension": ".py",
   "mimetype": "text/x-python",
   "name": "python",
   "nbconvert_exporter": "python",
   "pygments_lexer": "ipython2",
   "version": "2.7.6"
  }
 },
 "nbformat": 4,
 "nbformat_minor": 5
}
